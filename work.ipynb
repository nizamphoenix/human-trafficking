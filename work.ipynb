{
 "cells": [
  {
   "cell_type": "code",
   "execution_count": 1,
   "metadata": {},
   "outputs": [],
   "source": [
    "import pandas as pd\n",
    "import numpy as np\n",
    "import matplotlib.pyplot as plt\n",
    "import seaborn as sns\n",
    "\n",
    "%matplotlib inline\n"
   ]
  },
  {
   "cell_type": "code",
   "execution_count": 551,
   "metadata": {},
   "outputs": [
    {
     "name": "stderr",
     "output_type": "stream",
     "text": [
      "/usr/lib/python3/dist-packages/IPython/core/interactiveshell.py:2718: DtypeWarning: Columns (5,45,46,48,51,68,69,70) have mixed types. Specify dtype option on import or set low_memory=False.\n",
      "  interactivity=interactivity, compiler=compiler, result=result)\n"
     ]
    },
    {
     "data": {
      "text/plain": [
       "(48801, 63)"
      ]
     },
     "execution_count": 551,
     "metadata": {},
     "output_type": "execute_result"
    }
   ],
   "source": [
    "ctdc = pd.read_csv(\"/home/nizam/Desktop/CTDC/data.csv\")\n",
    "ctdc.drop(['Unnamed: 63',\n",
    "       'Unnamed: 64', 'Unnamed: 65', 'Unnamed: 66', 'Unnamed: 67',\n",
    "       'Unnamed: 68', 'Unnamed: 69', 'Unnamed: 70', 'Unnamed: 71',\n",
    "       'Unnamed: 72', 'Unnamed: 73', 'Unnamed: 74', 'Unnamed: 75'],axis=1,inplace=True)\n",
    "ctdc.replace('-99','unknown',inplace=True)\n",
    "ctdc.replace(-99,'unknown',inplace=True)\n",
    "ctdc.shape"
   ]
  },
  {
   "cell_type": "code",
   "execution_count": 510,
   "metadata": {},
   "outputs": [
    {
     "data": {
      "text/plain": [
       "Index(['yearOfRegistration', 'Datasource', 'gender', 'ageBroad',\n",
       "       'majorityStatus', 'majorityStatusAtExploit', 'majorityEntry',\n",
       "       'citizenship', 'meansOfControlDebtBondage',\n",
       "       'meansOfControlTakesEarnings', 'meansOfControlRestrictsFinancialAccess',\n",
       "       'meansOfControlThreats', 'meansOfControlPsychologicalAbuse',\n",
       "       'meansOfControlPhysicalAbuse', 'meansOfControlSexualAbuse',\n",
       "       'meansOfControlFalsePromises', 'meansOfControlPsychoactiveSubstances',\n",
       "       'meansOfControlRestrictsMovement', 'meansOfControlRestrictsMedicalCare',\n",
       "       'meansOfControlExcessiveWorkingHours', 'meansOfControlUsesChildren',\n",
       "       'meansOfControlThreatOfLawEnforcement',\n",
       "       'meansOfControlWithholdsNecessities',\n",
       "       'meansOfControlWithholdsDocuments', 'meansOfControlOther',\n",
       "       'meansOfControlNotSpecified', 'meansOfControlConcatenated',\n",
       "       'isForcedLabour', 'isSexualExploit', 'isOtherExploit', 'isSexAndLabour',\n",
       "       'isForcedMarriage', 'isForcedMilitary', 'isOrganRemoval',\n",
       "       'isSlaveryAndPractices', 'typeOfExploitConcatenated',\n",
       "       'typeOfLabourAgriculture', 'typeOfLabourAquafarming',\n",
       "       'typeOfLabourBegging', 'typeOfLabourConstruction',\n",
       "       'typeOfLabourDomesticWork', 'typeOfLabourHospitality',\n",
       "       'typeOfLabourIllicitActivities', 'typeOfLabourManufacturing',\n",
       "       'typeOfLabourMiningOrDrilling', 'typeOfLabourPeddling',\n",
       "       'typeOfLabourTransportation', 'typeOfLabourOther',\n",
       "       'typeOfLabourNotSpecified', 'typeOfLabourConcatenated',\n",
       "       'typeOfSexProstitution', 'typeOfSexPornography',\n",
       "       'typeOfSexRemoteInteractiveServices', 'typeOfSexPrivateSexualServices',\n",
       "       'typeOfSexConcatenated', 'isAbduction', 'RecruiterRelationship',\n",
       "       'CountryOfExploitation', 'recruiterRelationIntimatePartner',\n",
       "       'recruiterRelationFriend', 'recruiterRelationFamily',\n",
       "       'recruiterRelationOther', 'recruiterRelationUnknown'],\n",
       "      dtype='object')"
      ]
     },
     "execution_count": 510,
     "metadata": {},
     "output_type": "execute_result"
    }
   ],
   "source": [
    "ctdc.columns"
   ]
  },
  {
   "cell_type": "code",
   "execution_count": 696,
   "metadata": {},
   "outputs": [],
   "source": [
    "targets = ['isForcedLabour', 'isSexualExploit', 'isOtherExploit', 'isSexAndLabour',\n",
    "       'isForcedMarriage', 'isForcedMilitary', 'isOrganRemoval',\n",
    "       'isSlaveryAndPractices']"
   ]
  },
  {
   "cell_type": "markdown",
   "metadata": {},
   "source": [
    "### Zooming into data"
   ]
  },
  {
   "cell_type": "code",
   "execution_count": null,
   "metadata": {},
   "outputs": [],
   "source": []
  },
  {
   "cell_type": "code",
   "execution_count": 697,
   "metadata": {},
   "outputs": [
    {
     "name": "stdout",
     "output_type": "stream",
     "text": [
      "******************** isForcedLabour ********************\n",
      "Counter({'unknown': 22203, '0': 11930, '1': 7528, 'False promises': 1274, 'Psychological abuse': 1030, 'Physical abuse': 905, 'Excessive working hours': 769, 'Restricts movement': 705, 'Psychoactive substances': 590, 'Threats': 421, 'Other': 418, 'Sexual abuse': 410, 'Physical Abuse': 195, 'Takes earnings': 146, 'Withholds necessities': 87, 'Withholds documents': 71, 'Restricts medical care': 48, 'Restricts financial access': 48, 'Uses children': 17, 'Threat of law enforcement': 5, 'Not specified': 1})\n",
      "--------------------------------------------------------------------------------------------------------------------------------------------------------------------------------------------------------\n",
      "******************** isSexualExploit ********************\n",
      "Counter({'unknown': 24464, '1': 11793, '0': 7393, 'Psychological abuse': 839, 'False promises': 821, 'Restricts movement': 632, 'Physical abuse': 539, 'Physical Abuse': 505, 'Psychoactive substances': 497, 'Other': 394, 'Sexual abuse': 313, 'Takes earnings': 136, 'Restricts medical care': 123, 'Threats': 114, 'Withholds documents': 94, 'Withholds necessities': 82, 'Threat of law enforcement': 26, 'Uses children': 15, 'Excessive working hours': 13, 'Restricts financial access': 8})\n",
      "--------------------------------------------------------------------------------------------------------------------------------------------------------------------------------------------------------\n",
      "******************** isOtherExploit ********************\n",
      "Counter({'0': 18488, 'unknown': 17544, '1': 8888, 'Restricts movement': 892, 'Psychological abuse': 654, 'Physical Abuse': 518, 'Psychoactive substances': 285, 'Other': 271, 'Takes earnings': 218, 'Restricts medical care': 217, 'Sexual abuse': 183, 'Physical abuse': 149, 'Withholds documents': 145, 'Withholds necessities': 125, 'Threats': 78, 'False promises': 75, 'Threat of law enforcement': 34, 'Uses children': 28, 'Excessive working hours': 9})\n",
      "--------------------------------------------------------------------------------------------------------------------------------------------------------------------------------------------------------\n",
      "******************** isSexAndLabour ********************\n",
      "Counter({'unknown': 24870, '0': 19603, '1': 1376, 'Restricts movement': 547, 'Psychological abuse': 471, 'Takes earnings': 442, 'Restricts medical care': 386, 'Other': 254, 'Psychoactive substances': 203, 'Withholds documents': 158, 'Withholds necessities': 157, 'Threats': 105, 'Sexual abuse': 67, 'Threat of law enforcement': 49, 'False promises': 37, 'Physical abuse': 34, 'Uses children': 21, 'Excessive working hours': 21})\n",
      "--------------------------------------------------------------------------------------------------------------------------------------------------------------------------------------------------------\n",
      "******************** isForcedMarriage ********************\n",
      "Counter({'unknown': 32895, '0': 12615, '1': 1019, 'Restricts movement': 454, 'Restricts medical care': 431, 'Threats': 288, 'Takes earnings': 284, 'Withholds documents': 183, 'Other': 141, 'Withholds necessities': 138, 'Threat of law enforcement': 121, 'Psychological abuse': 93, 'Sexual abuse': 61, 'Psychoactive substances': 35, 'False promises': 16, 'Uses children': 14, 'Excessive working hours': 10, 'Physical abuse': 3})\n",
      "--------------------------------------------------------------------------------------------------------------------------------------------------------------------------------------------------------\n",
      "******************** isForcedMilitary ********************\n",
      "Counter({'unknown': 34330, '0': 11942, '1': 711, 'Restricts movement': 476, 'Takes earnings': 337, 'Withholds documents': 327, 'Threats': 260, 'Withholds necessities': 149, 'Restricts medical care': 69, 'Threat of law enforcement': 67, 'Other': 66, 'Sexual abuse': 39, 'Psychoactive substances': 10, 'Uses children': 10, 'Excessive working hours': 7, 'False promises': 1})\n",
      "--------------------------------------------------------------------------------------------------------------------------------------------------------------------------------------------------------\n",
      "******************** isOrganRemoval ********************\n",
      "Counter({'unknown': 35458, '0': 11387, '1': 660, 'Takes earnings': 325, 'Withholds documents': 265, 'Threats': 232, 'Sexual abuse': 146, 'Threat of law enforcement': 136, 'Withholds necessities': 77, 'Restricts movement': 67, 'Other': 32, 'Restricts medical care': 7, 'Uses children': 4, 'Excessive working hours': 3, 'Psychoactive substances': 1, 'False promises': 1})\n",
      "--------------------------------------------------------------------------------------------------------------------------------------------------------------------------------------------------------\n",
      "******************** isSlaveryAndPractices ********************\n",
      "Counter({'unknown': 43962, '0': 3132, '1': 752, 'Threats': 273, 'Withholds documents': 205, 'Threat of law enforcement': 179, 'Takes earnings': 149, 'Withholds necessities': 68, 'Sexual abuse': 50, 'Other': 23, 'Excessive working hours': 4, 'Restricts movement': 1, 'Restricts medical care': 1, 'Uses children': 1, 'Psychoactive substances': 1})\n",
      "--------------------------------------------------------------------------------------------------------------------------------------------------------------------------------------------------------\n"
     ]
    }
   ],
   "source": [
    "from collections import Counter\n",
    "for col in targets:#list(ctdc.columns):\n",
    "    print(\"*\"*20,col,\"*\"*20)\n",
    "    print(Counter(ctdc[col]))\n",
    "    print(\"-\"*200)"
   ]
  },
  {
   "cell_type": "code",
   "execution_count": 688,
   "metadata": {},
   "outputs": [
    {
     "data": {
      "text/plain": [
       "(42098, 63)"
      ]
     },
     "execution_count": 688,
     "metadata": {},
     "output_type": "execute_result"
    }
   ],
   "source": [
    "#from year 2009 to 2019(inclusive)\n",
    "ctdc_9_19 = ctdc[ctdc['yearOfRegistration']>=2009]\n",
    "ctdc_9_19.shape"
   ]
  },
  {
   "cell_type": "code",
   "execution_count": 616,
   "metadata": {},
   "outputs": [
    {
     "name": "stderr",
     "output_type": "stream",
     "text": [
      "/home/nizam/.local/lib/python3.6/site-packages/pandas/core/ops.py:1649: FutureWarning: elementwise comparison failed; returning scalar instead, but in the future will perform elementwise comparison\n",
      "  result = method(y)\n"
     ]
    },
    {
     "data": {
      "text/plain": [
       "Text(0.5, 1.0, 'No of trafficking cases registered from 2009 to 2019')"
      ]
     },
     "execution_count": 616,
     "metadata": {},
     "output_type": "execute_result"
    },
    {
     "data": {
      "image/png": "[encoded data removed]",
      "text/plain": [
       "<Figure size 2160x1080 with 1 Axes>"
      ]
     },
     "metadata": {
      "needs_background": "light"
     },
     "output_type": "display_data"
    }
   ],
   "source": [
    "plt.figure(figsize=(30,15))\n",
    "plt.xlabel('yearOfRegistration',size=16); plt.ylabel('count',size=16); \n",
    "sns.countplot(ctdc_9_19[ctdc_9_19['yearOfRegistration']!='unknown']['yearOfRegistration'])\n",
    "plt.title('No of trafficking cases registered from 2009 to 2019',size=20)"
   ]
  },
  {
   "cell_type": "markdown",
   "metadata": {},
   "source": [
    "**Observation**:There seem to be 2 trends in the number of cases registered, one from 2009 until 2016 and the other from 2016 until 2019.  \n",
    "So, it makes sense to analyse data with an increasing trend, finding factors that made the trend behave in the way it does, and likewise for the decreasing trend from 2016 until 2019."
   ]
  },
  {
   "cell_type": "code",
   "execution_count": 644,
   "metadata": {},
   "outputs": [
    {
     "data": {
      "text/plain": [
       "Text(0.5, 1.0, 'Age at the time exploitation(labour/sexual/organ) began.')"
      ]
     },
     "execution_count": 644,
     "metadata": {},
     "output_type": "execute_result"
    },
    {
     "data": {
      "image/png": "[encoded data removed]",
      "text/plain": [
       "<Figure size 432x288 with 1 Axes>"
      ]
     },
     "metadata": {
      "needs_background": "light"
     },
     "output_type": "display_data"
    }
   ],
   "source": [
    "plt.xlabel('count',size=16); plt.ylabel('majorityStatusAtExploit',size=16); \n",
    "sns.countplot(ctdc_9_19[ctdc_9_19['majorityStatusAtExploit']!='unknown']['majorityStatusAtExploit'])\n",
    "plt.title('Age at the time exploitation(labour/sexual/organ) began.',size=20)"
   ]
  },
  {
   "cell_type": "code",
   "execution_count": 647,
   "metadata": {},
   "outputs": [
    {
     "data": {
      "text/plain": [
       "Text(0.5, 1.0, 'Age at the time when case was registered')"
      ]
     },
     "execution_count": 647,
     "metadata": {},
     "output_type": "execute_result"
    },
    {
     "data": {
      "image/png": "[encoded data removed]",
      "text/plain": [
       "<Figure size 432x288 with 1 Axes>"
      ]
     },
     "metadata": {
      "needs_background": "light"
     },
     "output_type": "display_data"
    }
   ],
   "source": [
    "plt.xlabel('count',size=16); plt.ylabel('ageBroad',size=16); \n",
    "sns.countplot(ctdc_9_19[ctdc_9_19['ageBroad']!='unknown']['ageBroad'])\n",
    "plt.title('Age at the time when case was registered',size=20)"
   ]
  },
  {
   "cell_type": "code",
   "execution_count": 690,
   "metadata": {},
   "outputs": [
    {
     "name": "stderr",
     "output_type": "stream",
     "text": [
      "/home/nizam/.local/lib/python3.6/site-packages/pandas/core/frame.py:4042: SettingWithCopyWarning: \n",
      "A value is trying to be set on a copy of a slice from a DataFrame\n",
      "\n",
      "See the caveats in the documentation: http://pandas.pydata.org/pandas-docs/stable/indexing.html#indexing-view-versus-copy\n",
      "  method=method)\n"
     ]
    },
    {
     "data": {
      "text/plain": [
       "(42098, 63)"
      ]
     },
     "execution_count": 690,
     "metadata": {},
     "output_type": "execute_result"
    }
   ],
   "source": [
    "ctdc_9_19.replace('unknown',np.nan,inplace=True)\n",
    "ctdc_9_19.shape"
   ]
  },
  {
   "cell_type": "code",
   "execution_count": 691,
   "metadata": {},
   "outputs": [
    {
     "data": {
      "text/plain": [
       "((29744, 63), (28753, 63))"
      ]
     },
     "execution_count": 691,
     "metadata": {},
     "output_type": "execute_result"
    }
   ],
   "source": [
    "data_9_16=ctdc_9_19[ctdc_9_19['yearOfRegistration']<=2016]\n",
    "data_16_19=ctdc_9_19[ctdc_9_19['yearOfRegistration']>=2016]\n",
    "data_9_16.shape,data_16_19.shape"
   ]
  },
  {
   "cell_type": "markdown",
   "metadata": {},
   "source": [
    "### Targets\n",
    "The following variables shall be treated as **target variable**,one at a time during the analysis  \n",
    "- isSexAndLabour\t\n",
    "- isForcedLabour  \n",
    "- isSexualExploit\t\n",
    "- isOtherExploit\t\n",
    "- isForcedMarriage\t\n",
    "- isForcedMilitary\t\n",
    "- isOrganRemoval\t\n",
    "- isSlaveryAndPractices"
   ]
  },
  {
   "cell_type": "markdown",
   "metadata": {},
   "source": [
    "#### data_9_16  :   from 2009 to 2016(inclusive)  \n",
    "#### data_16_19:   from 2016 to 2019(inclusive)  "
   ]
  },
  {
   "cell_type": "code",
   "execution_count": 705,
   "metadata": {},
   "outputs": [
    {
     "name": "stderr",
     "output_type": "stream",
     "text": [
      "/home/nizam/.local/lib/python3.6/site-packages/pandas/core/frame.py:3940: SettingWithCopyWarning: \n",
      "A value is trying to be set on a copy of a slice from a DataFrame\n",
      "\n",
      "See the caveats in the documentation: http://pandas.pydata.org/pandas-docs/stable/indexing.html#indexing-view-versus-copy\n",
      "  errors=errors)\n"
     ]
    },
    {
     "data": {
      "text/plain": [
       "(10171, 56)"
      ]
     },
     "execution_count": 705,
     "metadata": {},
     "output_type": "execute_result"
    }
   ],
   "source": [
    "#considering isSexAndLabour as the target.\n",
    "sex_labour_data = data_9_16.dropna(subset=['isSexAndLabour'])\n",
    "sex_labour_data.drop(list(set(targets)-set(['isSexAndLabour'])),axis=1,inplace=True)#dropping other targets\n",
    "sex_labour_data.shape"
   ]
  },
  {
   "cell_type": "code",
   "execution_count": null,
   "metadata": {},
   "outputs": [],
   "source": []
  },
  {
   "cell_type": "code",
   "execution_count": 707,
   "metadata": {},
   "outputs": [
    {
     "data": {
      "text/html": [
       "<div>\n",
       "<style scoped>\n",
       "    .dataframe tbody tr th:only-of-type {\n",
       "        vertical-align: middle;\n",
       "    }\n",
       "\n",
       "    .dataframe tbody tr th {\n",
       "        vertical-align: top;\n",
       "    }\n",
       "\n",
       "    .dataframe thead th {\n",
       "        text-align: right;\n",
       "    }\n",
       "</style>\n",
       "<table border=\"1\" class=\"dataframe\">\n",
       "  <thead>\n",
       "    <tr style=\"text-align: right;\">\n",
       "      <th></th>\n",
       "      <th>yearOfRegistration</th>\n",
       "      <th>Datasource</th>\n",
       "      <th>gender</th>\n",
       "      <th>ageBroad</th>\n",
       "      <th>majorityStatus</th>\n",
       "      <th>majorityStatusAtExploit</th>\n",
       "      <th>majorityEntry</th>\n",
       "      <th>citizenship</th>\n",
       "      <th>meansOfControlDebtBondage</th>\n",
       "      <th>meansOfControlTakesEarnings</th>\n",
       "      <th>...</th>\n",
       "      <th>typeOfSexPrivateSexualServices</th>\n",
       "      <th>typeOfSexConcatenated</th>\n",
       "      <th>isAbduction</th>\n",
       "      <th>RecruiterRelationship</th>\n",
       "      <th>CountryOfExploitation</th>\n",
       "      <th>recruiterRelationIntimatePartner</th>\n",
       "      <th>recruiterRelationFriend</th>\n",
       "      <th>recruiterRelationFamily</th>\n",
       "      <th>recruiterRelationOther</th>\n",
       "      <th>recruiterRelationUnknown</th>\n",
       "    </tr>\n",
       "  </thead>\n",
       "  <tbody>\n",
       "    <tr>\n",
       "      <th>6769</th>\n",
       "      <td>2009</td>\n",
       "      <td>Case Management</td>\n",
       "      <td>Female</td>\n",
       "      <td>18--20</td>\n",
       "      <td>Adult</td>\n",
       "      <td>Adult</td>\n",
       "      <td>Adult</td>\n",
       "      <td>UA</td>\n",
       "      <td>1.0</td>\n",
       "      <td>1.0</td>\n",
       "      <td>...</td>\n",
       "      <td>NaN</td>\n",
       "      <td>NaN</td>\n",
       "      <td>0</td>\n",
       "      <td>0</td>\n",
       "      <td>NaN</td>\n",
       "      <td>NaN</td>\n",
       "      <td>NaN</td>\n",
       "      <td>NaN</td>\n",
       "      <td>NaN</td>\n",
       "      <td>NaN</td>\n",
       "    </tr>\n",
       "    <tr>\n",
       "      <th>6770</th>\n",
       "      <td>2009</td>\n",
       "      <td>Case Management</td>\n",
       "      <td>Female</td>\n",
       "      <td>18--20</td>\n",
       "      <td>Adult</td>\n",
       "      <td>Adult</td>\n",
       "      <td>Adult</td>\n",
       "      <td>UA</td>\n",
       "      <td>1.0</td>\n",
       "      <td>1.0</td>\n",
       "      <td>...</td>\n",
       "      <td>NaN</td>\n",
       "      <td>0</td>\n",
       "      <td>NaN</td>\n",
       "      <td>NaN</td>\n",
       "      <td>NaN</td>\n",
       "      <td>NaN</td>\n",
       "      <td>NaN</td>\n",
       "      <td>0</td>\n",
       "      <td>0</td>\n",
       "      <td>NaN</td>\n",
       "    </tr>\n",
       "    <tr>\n",
       "      <th>6771</th>\n",
       "      <td>2009</td>\n",
       "      <td>Case Management</td>\n",
       "      <td>Female</td>\n",
       "      <td>18--20</td>\n",
       "      <td>Adult</td>\n",
       "      <td>Adult</td>\n",
       "      <td>Adult</td>\n",
       "      <td>UA</td>\n",
       "      <td>NaN</td>\n",
       "      <td>1.0</td>\n",
       "      <td>...</td>\n",
       "      <td>NaN</td>\n",
       "      <td>0</td>\n",
       "      <td>0</td>\n",
       "      <td>NaN</td>\n",
       "      <td>NaN</td>\n",
       "      <td>NaN</td>\n",
       "      <td>NaN</td>\n",
       "      <td>NaN</td>\n",
       "      <td>NaN</td>\n",
       "      <td>NaN</td>\n",
       "    </tr>\n",
       "    <tr>\n",
       "      <th>6772</th>\n",
       "      <td>2009</td>\n",
       "      <td>Case Management</td>\n",
       "      <td>Female</td>\n",
       "      <td>18--20</td>\n",
       "      <td>Adult</td>\n",
       "      <td>Adult</td>\n",
       "      <td>Adult</td>\n",
       "      <td>UA</td>\n",
       "      <td>NaN</td>\n",
       "      <td>1.0</td>\n",
       "      <td>...</td>\n",
       "      <td>NaN</td>\n",
       "      <td>NaN</td>\n",
       "      <td>NaN</td>\n",
       "      <td>NaN</td>\n",
       "      <td>0</td>\n",
       "      <td>0</td>\n",
       "      <td>NaN</td>\n",
       "      <td>NaN</td>\n",
       "      <td>NaN</td>\n",
       "      <td>NaN</td>\n",
       "    </tr>\n",
       "    <tr>\n",
       "      <th>6773</th>\n",
       "      <td>2009</td>\n",
       "      <td>Case Management</td>\n",
       "      <td>Female</td>\n",
       "      <td>18--20</td>\n",
       "      <td>Adult</td>\n",
       "      <td>Adult</td>\n",
       "      <td>Adult</td>\n",
       "      <td>UA</td>\n",
       "      <td>NaN</td>\n",
       "      <td>1.0</td>\n",
       "      <td>...</td>\n",
       "      <td>NaN</td>\n",
       "      <td>NaN</td>\n",
       "      <td>NaN</td>\n",
       "      <td>0</td>\n",
       "      <td>0</td>\n",
       "      <td>NaN</td>\n",
       "      <td>NaN</td>\n",
       "      <td>NaN</td>\n",
       "      <td>NaN</td>\n",
       "      <td>NaN</td>\n",
       "    </tr>\n",
       "  </tbody>\n",
       "</table>\n",
       "<p>5 rows × 56 columns</p>\n",
       "</div>"
      ],
      "text/plain": [
       "      yearOfRegistration       Datasource  gender ageBroad majorityStatus  \\\n",
       "6769                2009  Case Management  Female   18--20          Adult   \n",
       "6770                2009  Case Management  Female   18--20          Adult   \n",
       "6771                2009  Case Management  Female   18--20          Adult   \n",
       "6772                2009  Case Management  Female   18--20          Adult   \n",
       "6773                2009  Case Management  Female   18--20          Adult   \n",
       "\n",
       "     majorityStatusAtExploit majorityEntry citizenship  \\\n",
       "6769                   Adult         Adult          UA   \n",
       "6770                   Adult         Adult          UA   \n",
       "6771                   Adult         Adult          UA   \n",
       "6772                   Adult         Adult          UA   \n",
       "6773                   Adult         Adult          UA   \n",
       "\n",
       "      meansOfControlDebtBondage  meansOfControlTakesEarnings  ...  \\\n",
       "6769                        1.0                          1.0  ...   \n",
       "6770                        1.0                          1.0  ...   \n",
       "6771                        NaN                          1.0  ...   \n",
       "6772                        NaN                          1.0  ...   \n",
       "6773                        NaN                          1.0  ...   \n",
       "\n",
       "      typeOfSexPrivateSexualServices  typeOfSexConcatenated  isAbduction  \\\n",
       "6769                             NaN                    NaN            0   \n",
       "6770                             NaN                      0          NaN   \n",
       "6771                             NaN                      0            0   \n",
       "6772                             NaN                    NaN          NaN   \n",
       "6773                             NaN                    NaN          NaN   \n",
       "\n",
       "      RecruiterRelationship  CountryOfExploitation  \\\n",
       "6769                      0                    NaN   \n",
       "6770                    NaN                    NaN   \n",
       "6771                    NaN                    NaN   \n",
       "6772                    NaN                      0   \n",
       "6773                      0                      0   \n",
       "\n",
       "      recruiterRelationIntimatePartner  recruiterRelationFriend  \\\n",
       "6769                               NaN                      NaN   \n",
       "6770                               NaN                      NaN   \n",
       "6771                               NaN                      NaN   \n",
       "6772                                 0                      NaN   \n",
       "6773                               NaN                      NaN   \n",
       "\n",
       "      recruiterRelationFamily  recruiterRelationOther  \\\n",
       "6769                      NaN                     NaN   \n",
       "6770                        0                       0   \n",
       "6771                      NaN                     NaN   \n",
       "6772                      NaN                     NaN   \n",
       "6773                      NaN                     NaN   \n",
       "\n",
       "      recruiterRelationUnknown  \n",
       "6769                       NaN  \n",
       "6770                       NaN  \n",
       "6771                       NaN  \n",
       "6772                       NaN  \n",
       "6773                       NaN  \n",
       "\n",
       "[5 rows x 56 columns]"
      ]
     },
     "execution_count": 707,
     "metadata": {},
     "output_type": "execute_result"
    }
   ],
   "source": [
    "sex_labour_data.head()"
   ]
  },
  {
   "cell_type": "code",
   "execution_count": null,
   "metadata": {},
   "outputs": [],
   "source": []
  },
  {
   "cell_type": "code",
   "execution_count": null,
   "metadata": {},
   "outputs": [],
   "source": []
  },
  {
   "cell_type": "code",
   "execution_count": null,
   "metadata": {},
   "outputs": [],
   "source": []
  },
  {
   "cell_type": "code",
   "execution_count": null,
   "metadata": {},
   "outputs": [],
   "source": []
  },
  {
   "cell_type": "code",
   "execution_count": null,
   "metadata": {},
   "outputs": [],
   "source": []
  },
  {
   "cell_type": "code",
   "execution_count": 11,
   "metadata": {},
   "outputs": [
    {
     "data": {
      "text/plain": [
       "Counter({0: 91999, 1: 7243, 2: 749, 3: 8, 7: 1})"
      ]
     },
     "execution_count": 11,
     "metadata": {},
     "output_type": "execute_result"
    }
   ],
   "source": [
    "a=pd.read_csv('./Desktop/submission.csv')\n",
    "b=pd.read_csv('./Desktop/submission_siavrez.csv')\n",
    "from collections import Counter\n",
    "Counter(a[800000:900000].open_channels.values)#mera\n"
   ]
  },
  {
   "cell_type": "code",
   "execution_count": 12,
   "metadata": {},
   "outputs": [
    {
     "data": {
      "text/plain": [
       "Counter({0: 92223, 1: 7043, 2: 726, 3: 8})"
      ]
     },
     "execution_count": 12,
     "metadata": {},
     "output_type": "execute_result"
    }
   ],
   "source": [
    "Counter(b[800000:900000].open_channels.values)#siavrez"
   ]
  }
 ],
 "metadata": {
  "kernelspec": {
   "display_name": "Python 3",
   "language": "python",
   "name": "python3"
  },
  "language_info": {
   "codemirror_mode": {
    "name": "ipython",
    "version": 3
   },
   "file_extension": ".py",
   "mimetype": "text/x-python",
   "name": "python",
   "nbconvert_exporter": "python",
   "pygments_lexer": "ipython3",
   "version": "3.6.9"
  }
 },
 "nbformat": 4,
 "nbformat_minor": 2
}
